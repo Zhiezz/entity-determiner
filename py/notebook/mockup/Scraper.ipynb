{
 "cells": [
  {
   "cell_type": "code",
   "execution_count": 1,
   "metadata": {},
   "outputs": [],
   "source": [
    "from bs4 import BeautifulSoup\n",
    "from goose3 import Goose\n",
    "from pprint import pprint\n",
    "from tqdm import tqdm\n",
    "import MySQLdb as mdb\n",
    "import requests\n",
    "import string\n",
    "import os\n",
    "import re"
   ]
  },
  {
   "cell_type": "code",
   "execution_count": 2,
   "metadata": {},
   "outputs": [],
   "source": [
    "def mesin_cuci(text):\n",
    "    baca_word = ['Informasi Menarik Terbaru',\n",
    "                'Membaca:',\n",
    "                'Baca juga',\n",
    "                'Baca :',\n",
    "                'BACA JUGA:',\n",
    "                'Artikel ini telah tayang di',\n",
    "                'Baca:',\n",
    "                'BACA :',\n",
    "                'Baca Juga:',\n",
    "                'Baca artikel sumber',\n",
    "                'Penulis :']\n",
    "\n",
    "    junk_word = []\n",
    "    for word in baca_word:\n",
    "        for i in text.split('.'):\n",
    "            if i.find(word) >= 0 :\n",
    "                junk_word.append(i)\n",
    "\n",
    "    for j in junk_word:\n",
    "        text = text.replace(j, ' ').replace('..','.').replace('. . ','. ')\n",
    "        \n",
    "    return text"
   ]
  },
  {
   "cell_type": "code",
   "execution_count": 3,
   "metadata": {},
   "outputs": [],
   "source": [
    "def remove_publisher_title(title):\n",
    "    publisher_title = ['VIVA','Kompas.com','ANTARA News','iNews News','Okezone Lifestyle','Kabar24']\n",
    "    \n",
    "    for p in publisher_title:\n",
    "        title = title.replace(p,'').strip()\n",
    "    \n",
    "    return title"
   ]
  },
  {
   "cell_type": "code",
   "execution_count": 4,
   "metadata": {},
   "outputs": [],
   "source": [
    "def scrap_content(link):\n",
    "    g = Goose({\n",
    "                'use_meta_language': False, \n",
    "                'target_language':'id',\n",
    "                'enable_image_fetching': False,\n",
    "             })\n",
    "    extract = g.extract(url=link)\n",
    "    \n",
    "    title = extract.title\n",
    "    title = title.replace(\" | \",\"\").replace(\" - \",\" \").replace(\" – \",\" \").replace(\"   \",\" \").replace(\"  \",\" \")\n",
    "    title = remove_publisher_title(title)\n",
    "    regex = re.compile(\"[,\\.!?:']\")\n",
    "    title = regex.sub('', title)\n",
    "    \n",
    "    content = extract.cleaned_text\n",
    "    content = content.replace('‘','')\n",
    "    content = content.replace('\\n\\n','\\n').replace('\\n\\n','\\n').replace('\\n',' ').replace('  ',' ')\n",
    "    content = re.sub(r'[^\\x00-\\x7F]+', ' ', content)\n",
    "    content = mesin_cuci(content)\n",
    "    \n",
    "    if len(content) > 100:\n",
    "        content = content\n",
    "    else:\n",
    "        content = \"Content Not Valid\"\n",
    "    \n",
    "    result = {\n",
    "        'title': title,\n",
    "        'content': content\n",
    "    }\n",
    "        \n",
    "    return(result)"
   ]
  },
  {
   "cell_type": "code",
   "execution_count": 5,
   "metadata": {},
   "outputs": [],
   "source": [
    "category = [['WORLD','Dunia'],['NATION','Indonesia'],['BUSINESS','Bisnis'],['TECHNOLOGY','Teknologi'],\n",
    "            ['ENTERTAINMENT','Hiburan'],['SPORTS','Olahraga'],['SCIENCE','Science'],['HEALTH','Kesehatan']]"
   ]
  },
  {
   "cell_type": "code",
   "execution_count": 6,
   "metadata": {
    "scrolled": false
   },
   "outputs": [
    {
     "name": "stdout",
     "output_type": "stream",
     "text": [
      "HEALTH\n"
     ]
    },
    {
     "name": "stderr",
     "output_type": "stream",
     "text": [
      "100%|██████████| 40/40 [00:42<00:00,  1.07s/it]\n"
     ]
    }
   ],
   "source": [
    "# for cat in category:\n",
    "cat1 = 'HEALTH'\n",
    "cat2 = 'Kesehatan'\n",
    "print(cat1)\n",
    "\n",
    "url  = \"https://news.google.com/news/headlines/section/topic/{0}.id_id/{1}?ned=id_id&hl=id&gl=ID\".format(cat1,cat2)\n",
    "page = requests.get(url)\n",
    "soup = BeautifulSoup(page.content, 'html.parser')\n",
    "href = soup.find_all(\"a\", {\"class\" : \"nuEeue\"})\n",
    "\n",
    "result = []\n",
    "\n",
    "for h in tqdm(range(len(href))):\n",
    "#     try:\n",
    "    link = href[h]['href']\n",
    "    content = scrap_content(link)\n",
    "\n",
    "    res = {\n",
    "        'url': link,\n",
    "        'content': content,\n",
    "        'category': cat1\n",
    "    }\n",
    "    result.append(res)\n",
    "#     except:\n",
    "#         pass\n"
   ]
  },
  {
   "cell_type": "code",
   "execution_count": 7,
   "metadata": {
    "scrolled": false
   },
   "outputs": [
    {
     "name": "stdout",
     "output_type": "stream",
     "text": [
      "Bisnis.com, JAKARTA -- Bawang putih telah sangat dianggap sebagai makanan yang bermanfaat bagi kesehatan sejak lama, digunakan untuk mengobati penyakit manusia selama ribuan tahun. Namun, cara bawang putih menguntungkan tubuh telah membingungkan para peneliti selama ribuan tahun. Dalam penelitian terbaru yang diterbitkan oleh para ilmuwan dari Universitas Nottingham, para peneliti menyimpulkan bahwa bawang putih sebenarnya dapat mengurangi risiko jenis kanker tertentu, penyakit kardiovaskular dan diabetes tipe 2. Selain itu, cara menyiapkan bawang putih dapat memiliki efek positif untuk kesehatan. Namun, para ilmuwan tidak dapat menentukan metode persiapan mana yang paling efektif. Bawang putih menghasilkan berbagai senyawa sulfur saat disiapkan, entah itu itu dicincang, difermentasi dalam alkohol atau digencet untuk diambil minyaknya. Menurut para peneliti, senyawa belerang ini dapat mempengaruhi \"molekul pemberi sinyal gas\" seperti oksida nitrat dan hidrogen sulfida yang secara alami diproduksi dalam tubuh manusia. Perubahan tingkat molekul sinyal gas dapat dideteksi pada orang yang menderita banyak penyakit, karena mereka dapat memiliki dampak besar pada komunikasi sel dan menjaga keseimbangan dalam tubuh. \"Molekul-molekul ini memberi keuntungan ekologis bagi tanaman saat mereka tumbuh di alam liar,\" kata Dr Peter Rose, ahli biokimia di Universitas Nottingham dan penulis senior studi tersebut seperti dilansir Independent. \"Seperti yang terjadi, mereka juga aktif secara biologis dalam sel dan jaringan mamalia, tetapi kita tidak tahu bagaimana mereka dimetabolisme pada manusia.\" Sementara teknik optimal untuk menyiapkan bawang putih masih diperdebatkan, para peneliti setuju bahwa bawang putih adalah salah satu dari beberapa spesies tanaman yang memiliki kemampuan restorasi yang kuat. \"Ada banyak kemungkinan di daerah ini untuk menemukan pendekatan yang dapat mengurangi risiko penyakit dan meningkatkan kesehatan manusia, tetapi semuanya kembali ke pertanyaan mendasar tentang apa yang sebenarnya terjadi pada senyawa ini ketika kita memetabolisme mereka,\" kata Dr Rose.  Ada seluruh spektrum pekerjaan manusia yang masih perlu dilakukan untuk mengeksplorasi lebih jauh beberapa senyawa belerang yang aneh dan indah ini yang kita temukan dalam makanan kita. \n",
      "\n",
      "Suara.com - Bawang putih selama ini dianggap sebagai bahan dapur yang menyimpan manfaat kesehatan, dan telah digunakan untuk mengobati penyakit selama ribuan tahun oleh nenek moyang kita. Manfaat bawang putih bagi kesehatan bahkan diakui oleh para ilmuwan. Baru-baru ini, misalnya, peneliti dari University of Nottingham menyebutkan bahwa sebenarnya bawang putih dapat mengurangi risiko jenis kanker tertentu, penyakit kardiovaskular, hingga diabetes tipe 2. Selain itu, cara menyiapkan bawang putih juga dapat memiliki efek positif pada kesehatan Anda. Meski demikian, peneliti masih bertanya-tanya metode penyajian seperti apa yang dapat membuat bawang putih mampu memberi efek kesehatan positif bagi tubuh. Bawang putih sendiri diketahui menghasilkan berbagai senyawa sulfur ketika diolah seperti dicincang, difermentasi dalam alkohol, atau ditekan untuk menghasilkan minyak. Menurut para peneliti, senyawa belerang ini dapat memengaruhi molekul pemberi sinyal gas seperti oksida nitrat dan hidrogen sulfida yang secara alami diproduksi dalam tubuh manusia. Perubahan tingkat molekul sinyal gas ini dapat dideteksi pada orang yang menderita banyak penyakit, karena sinyal gas ini memiliki peran besar pada komunikasi sel dan menjaga keseimbangan dalam tubuh. \"Mereka juga aktif secara biologis dalam sel dan jaringan mamalia, tetapi kita tidak tahu bagaimana mereka dimetabolisme pada manusia,\" kata Dr. Peter Rose, ahli biokimia di University of Nottingham sekaligus peneliti utama. Sementara teknik optimal untuk mengolah bawang putih hingga dapat mendatangkan manfaat kesehatan masih diperdebatkan. Para peneliti setuju bahwa bawang putih adalah salah satu dari beberapa jenis tanaman yang memiliki kemampuan restorasi yang kuat. \"Kami membutuhkan penelitian lanjutan untuk menemukan teknik penyajian yang efektif agar senyawa belerang dalam bawang putih bisa dieksplorasi untuk menyembuhkan kanker, kardiovaskular, dan diabetes tipe 2,\" tandas Rose.\n",
      "\n",
      "Risiko anak menderita anemia lebih besar jika ibunya juga mengalami anemia saat mengandung. Adapun kelompok ibu dan remaja putri merupakan kelompok yang dianggap paling rentan mengalami anemia. \"Di Indonesia, satu dari tiga ibu hamil menderita anemia,\" ujar Endang selaku Ketua Perhimpunan Dokter Gizi Medik Indonesia (PDGMI), . Ibu yang terkena anemia akan \"mewariskan\" bayi yang kekurangan zat besi. Akibatnya, bayi pada usia empat hingga enam bulan bisa terkena anemia. Intelligence quotient (IQ) anak pun bisa terganggu jika mengalami anemia. \"Kalau sejak kecil menderita anemia, IQ-nya bisa turun 10-12 poin. Lalu IQ rata-rata sudah mepet garis normal, dikurangi 10 lagi bisa kurang dari normal dan akan pengaruh terhadap ketangkasan,\" tuturnya. Anemia pada bayi usia 0-2 tahun jika tidak segera ditangani dikhawatirkan akan sulit diubah. Anemia Sampai Kematian Menjadi Risikonya. \"Penurunan kemampuan kognitif atau kecerdasan pada bayi usia 0-2 tahun yang tidak segera dikoreksi sifatnya permanen. Susah diubahnya. Maka, mulailah dari remaja agar siap saat hamil agar tak anemia.\" Cegah anemia pada anak Anemia pada anak bisa dicegah sejak dini. Pada masa kehamilan, misalnya, ibu dinjurkan rutin mengonsumsi tablet tambah darah setiap hari. Endang menyarankan agar konsumsi tablet dimulai sejak masa prakonsepsi, atau sebelum pertemuan sel telur dan sperma. Namun, karena hal itu sulit untuk dihitung, ia menyarankan konsumsi tablet sebulan sebelum menikah. \"Satu tablet sehari untuk ibu hamil dan saat nifas. Kalau bisa selama hamil enam bulan, 180 hari 180 tablet itu bagus,\" tuturnya. Setelah anak lahir, ada baiknya pula agar mereka mulai diberi makanan dengan kandungan zat besi yang cukup. Endang membagi makanan anak 0-2 tahun ke dalam dua jenis. Jenis pertama adalah ASI eksklusif yang memiliki kandungan zat besi tinggi. Setelah memasuki bulan keenam, makanan anak perlu dikombinasikan. Misalnya dengan pangan hewani. Keragaman gizi makanan sangat diperlukan pada anak di usia tersebut. \"Kalau dulu yang tradisional ada nasi tim, dikasih hati ayam atau sapi, kemudian ada wortel, bayam, dan nasi. Itu sebetulnya sudah bagus,\" katanya. Untuk seterusnya, Endang menyarankan agar anak selalu diberi makanan bergizi seimbang dan kaya sumber zat besi. .com. \n",
      "\n",
      "JAKARTA, KOMPAS.com   Anemia atau penyakit kekurangan sel darah merah juga bisa dialami anak-anak. Pengaruhnya bukan hanya membuat lesu dan lemas, tapi juga menurunnya konsentrasi, bahkan kecerdasan. Risiko anak menderita anemia lebih besar jika ibunya juga mengalami anemia saat mengandung. Adapun kelompok ibu dan remaja putri merupakan kelompok yang dianggap paling rentan mengalami anemia. Hal itu diungkapkan Ketua Perhimpunan Dokter Gizi Medik Indonesia (PDGMI) Prof Endang L Achadi pada acara penegasan dukungan Merck terhadap gerakan Indonesia Bebas Anemia di Jakarta, Kamis (26/4/2018). \"Di Indonesia, satu dari tiga ibu hamil menderita anemia,\" ujar Endang. Penyebab utama anemia adalah kekurangan zat besi. Ibu yang terkena anemia akan \"mewariskan\" bayi yang kekurangan zat besi. Akibatnya, bayi pada usia empat hingga enam bulan bisa terkena anemia. Intelligence quotient (IQ) anak pun bisa terganggu jika mengalami anemia. \"Kalau sejak kecil menderita anemia, IQ-nya bisa turun 10-12 poin. Lalu IQ rata-rata sudah mepet garis normal, dikurangi 10 lagi bisa kurang dari normal dan akan pengaruh terhadap ketangkasan,\" tuturnya. Anemia pada bayi usia 0-2 tahun jika tidak segera ditangani dikhawatirkan akan sulit diubah. \"Penurunan kemampuan kognitif atau kecerdasan pada bayi usia 0-2 tahun yang tidak segera dikoreksi sifatnya permanen. Susah diubahnya. Maka, mulailah dari remaja agar siap saat hamil agar tak anemia.\" Anemia pada anak bisa dicegah sejak dini. Pada masa kehamilan, misalnya, ibu dinjurkan rutin mengonsumsi tablet tambah darah setiap hari. Endang menyarankan agar konsumsi tablet dimulai sejak masa prakonsepsi, atau sebelum pertemuan sel telur dan sperma. Namun, karena hal itu sulit untuk dihitung, ia menyarankan konsumsi tablet sebulan sebelum menikah. \"Satu tablet sehari untuk ibu hamil dan saat nifas. Kalau bisa selama hamil enam bulan, 180 hari 180 tablet itu bagus,\" tuturnya. Setelah anak lahir, ada baiknya pula agar mereka mulai diberi makanan dengan kandungan zat besi yang cukup. Endang membagi makanan anak 0-2 tahun ke dalam dua jenis. Jenis pertama adalah ASI eksklusif yang memiliki kandungan zat besi tinggi. Setelah memasuki bulan keenam, makanan anak perlu dikombinasikan. Misalnya dengan pangan hewani. Keragaman gizi makanan sangat diperlukan pada anak di usia tersebut. \"Kalau dulu yang tradisional ada nasi tim, dikasih hati ayam atau sapi, kemudian ada wortel, bayam, dan nasi. Itu sebetulnya sudah bagus,\" katanya. Untuk seterusnya, Endang menyarankan agar anak selalu diberi makanan bergizi seimbang dan kaya sumber zat besi.\n",
      "\n",
      "DARAH adalah salah satu komponen penting di dalam tubuh. Sebab darahlah yang mengedarkan oksigen dan nutrisi ke seluruh bagian tubuh. Maka dari itu, jumlah darah di dalam tubuh harus terkontrol agar berfungsi dengan baik, entah itu jumlah sel darah merah maupun sel darah putih. Kurangnya jumlah darah dapat memicu berbagai penyakit. Contohnya adalah anemia dimana jumlah sel darah merah atau hemoglobin (Hb) lebih rendah dari jumlah normal. Seseorang dikatakan terkena anemia apabila kadar Hb <12mg/dL pada perempuan, <11mg/dL pada ibu hamil, serta <13mg/dL pada laki-laki. Di Indonesia, anemia memengaruhi 1 dari 5 orang. Namun kebanyakan tidak sadar bila dirinya mengalami tersebut karena terkadang gejalanya tidak terlihat. \"Tanda paling umum yang bisa disadari adalah kurangnya produktivitas karena kekurangan oksigen, mudah pusing, mengantuk, dan mata berkunang-kunang. Kondisi ini terkadang dianggap biasa, baru sadar ketika terlihat pucat itu artinya sudah lebih berat,\" tutur Prof. Dr. Endang L. Achadi, spesialis dokter gizi medik saat ditemui dalam konferensi media terkait kampanye \"Indonesia Bebas Anemia\" yang digagas oleh Merck, Kamis (26/4/2018) di kawasan Menteng, Jakarta Pusat. Lebih lanjut Prof Endang menjelaskan bila penyebab utama terjadinya anemia di negara berkembang termasuk Indonesia adalah kekurangan zat besi dengan jumlah presentase mencapai 60%. \"Zat besi paling bagus itu dari produk hewani, di sayuran juga ada tapi enggak banyak dan enggak semuanya terserap. Daging, hati ayam, dan hati sapi adalah sumber makanan yang mengandung banyak besi dan protein. Sedangkan di masyarakat ekonomi menengah ke bawah bisa dikatakan jarang konsumsi daging, di masyarakat ekonomi menengah ke atas belum tentu konsumsi makanannya tepat,\" jelasnya. Profesor yang juga Ketua Perhimpunan Dokter Gizi Medik itu mengingatkan agar masyarakat lebih memerhatikan kondisi kesehatannya terutama jumlah darah di dalam tubuh. Bahkan bila diperlukan melakukan pemeriksaan rutin. \"Anemia adalah masalah cukup besar tapi tidak terlihat. Saat anemia, oksigen ke otak kurang sehingga kebugaran turun dan prestasi di sekolah juga menurun karena tidak konsentrasi. Selain itu kinerja dan produktivitas ikut menurun, begitu juga dengan daya tahan tubuh sehingga mudah infeksi,\" tambahnya. Sementara itu, ada beberapa cara yang bisa dilakukan untuk mencegah dan mengatasi anemia. Pertama konsumsi makanan sehat dan seimbang terutama makanan yang tinggi zat besi, protein, dan vitamin. Selanjutnya istirahat cukup dan olahraga teratur. Terakhir mengonsumsi suplemen zat besi atau tablet tambah darah. \"Minum tablet tambah darah hingga kini memang masih menjadi kontroversi karena banyak yang takut darahnya bertambah atau tekanan darahnya naik. Padahal, tablet tambah darah tidak berbahaya bila diminum sesuai anjuran kecuali jika mereka memiliki penyakit Thalassemia dan Hemoxhromatosis. Selain itu, tubuh mempunyai mekanismenya sendiri sehingga bila penyerapan zat besi berlebih maka akan dikeluarkan melalui feses,\" pungkas Prof Endang.\n",
      "\n",
      "VIVA   Anemia menjadi salah satu penyakit yang menarik kekhawatiran dunia. Bahkan, pada tahun 2017 dibuat sebuah konvensi anemia yang menyatakan bahwa anemia merupakan masalah yang sangat besar tapi tidak terlihat. Ketua Perhimpunan Dokter Gizi Medik Indonesia, Prof. Dr. Endang L. Achadi memaparkan, anemia merupakan hidden hunger atau kelaparan yang tidak kelihatan sehingga ini menjadi perhatian dunia. Hal ini karena menyangkut produktivitas, konsentrasi, dan kecerdasan yang dapat mengganggu kualitas sumber daya manusia. \"WHO (World Health Organization) mengatakan ada 2,3 miliar penduduk di dunia menderita anemia, separuhnya disebabkan oleh zat besi dan lebih dari separuhnya kekurangan zat besi yang berfungsi untuk membentuk hemoglobin,\" ucap Endang saat ditemui VIVA di Jakarta beberapa waktu lalu. Sementara di Asia Tenggara dan Afrika memiliki angka anemia yang tertinggi yaitu 85 persen. Sedangkan di Indonesia anemia terjadi pada 1 dari 3 ibu hamil. Dan, di antara wanita usia subur yaitu 15-49 tahun, memiliki jumlah penderita anemia tertinggi kelima di dunia. \"Artinya, kelompok perempuan usia subur yang berisiko tidak produktif, tidak cerdas, berada di posisi kelima di dunia,\" kata Endang. Jika anemia tidak ditangani dengan serius, maka dampaknya akan berpengaruh pada kualitas hidup. Karena, anemia dapat menurunkan produktivitas kerja, konsentrasi belajar dan mengganggu kesehatan. Kelompok yang berisiko menderita anemia adalah ibu hamil, karena harus berbagi zat besi dengan bayi yang dikandungnya. Di Indonesia sendiri, lebih dari satu dari lima orang, atau 22,7 persen, menderita anemia. Pada laki-laki usia 15 tahun ke atas, ada 1 dari 6 orang yang menderita anemia.\n",
      "\n",
      "JAKARTA, KOMPAS.com - Varises tidak dianggap sebagai gangguan kesehatan yang berbahaya. Meski begitu, kondisi ini sering kali mengganggu aktivitas seseorang. Namun, tahukah Anda jika dibandingkan penderita varises lebih banyak perempuan. Sebanyak 35 persen perempuan menderita varises. Angka ini lebih tinggi dibandingkan laki-laki yang hanya 20 persen. Ada banyak faktor dan penyebab yang membuat seorang perempuan menderita varises. Mulai dari keturunan, obesitas, terlalu sering berdiri, kurang gerak, penggunaan high heels, hingga kehamilan. Di antara semua penyebab tersebut, kehamilan jadi salah satu penyumbang kenapa banyak perempuan lebih rentan kena varises dibanding laki-laki. Pasalnya pada fase tersebut, bobot bayi dan ukuran rahim sudah makin membesar. \"Bayi yang besar akan menekan pembuluh darah vena,\" ujarnya di sela-sela temu media yang dihelat RSPI, Rabu (25/4/2018). Tekanan kuat tersebut menyebabkan katup vena tidak berfungsi dengan baik. Selain itu, dinding pembuluh vena jadi lemas. \"Sehingga, darah yang mestinya balik ke jantung malah mengalir ke bawah. Vena kurang dalam memompa darah ke atas,\" jelasnya. Pembuluh darah vena jadi melebar dan menonjol ke permukaan kulit. Biasanya ini terjadi di tungkai kaki. Inilah varises, kata Achmad. Lantas, apa yang sebaiknya dilakukan ibu hamil yang punya varises? Menurut Achmad, jika terjadi kasus varises pada ibu hamil tidak perlu diapa-apakan. Itu karena varises memang akan bersarang selama ada bayi yang dikandung. \"Lantas varises ini sebenarnya akan hilang dengan sendirinya seusai melahirkan,\" ungkap Achmad. Pasalnya, sudah tidak ada lagi beban yang ditopang oleh ibu hamil yang bikin vena merenggang. Namun, jika ibu hamil merasa risau dan mengalami nyeri dengan varises tersebut, bisa dikurangi efeknya lewat olahraga. \"Olahraga bantu otot kaki kuat sehingga vena lancar memompa darah ke atas,\" ujarnya.\n",
      "\n",
      "Varises bisa jadi awal mula risiko serangan jantung, karena ia menyumbat aliran darah menuju jantung.\n",
      "\n",
      "Bisnis.com, JAKARTA - Mengenakan sepatu bertumit tinggi atau high heels bagi banyak wanita memang akan terlihat lebih anggun sehingga sering dikenakan pada momen-momen penting, seperti menghadiri resepsi atau acara formal lainnya. Dokter Spesialis Toraks dan Kardiovaskular di RS Pondok Indah, Achmad Faisal, mengungkapkan pemakaian sepatu high heels berpeluang memberikan dampak yang sangat tidak baik terhadap kondisi tubuh. \"Memakai sepatu high heels terlalu lama menjadi salah satu faktor risiko terkena varises,\" ujarnya, belum lama ini. Dia menjelaskan, setidaknya ada tujuh faktor yang menjadi risiko mengalami varises. Yakni pertambahan usia, berjenis kelamin perempuan, memiliki faktor keturunan, kelebihan berat badan (obesitas), berdiri terlalu lama, duduk terlalu lama, serta pemakaian sepatu high heels yang terlalu lama juga. Varises merupakan kondisi pembuluh darah yang membesar dan timbul, paling sering muncul di kaki dan telapak kaki. Bisa berupa kaki bengkak, urat kebiruan di kaki, urat vena berbelok-belok, luka di kaki atau kaki sering terasa \"kemeng' (pegal). \"Jika tidak ditangani, varises dapat menyebabkan peningkatan rasa sakit, pembengkakan dan peradangan pada pembuluh darah.\" Penggumpalan darah dapat terbentuk di vena dalam dan dapat menyebabkan penyumbatan aliran darah kembali ke jantung. Penggumpalan darah tersebut dapat terlepas dan mengikuti aliran darah yang dapat berpotensi menjadi emboli paru yang sangat fatal. Emboli paru merupakan kondisi ketika arteri pulmonalis (pembuluh darah yang membawa darah dari jantung menuju paru-paru) mengalami penyumbatan dan biasanya akibat gumpalan darah yang berasal dari kaki.\n",
      "\n",
      "VIVA   Kebiasaan ini mungkin dilakukan hampir oleh setiap orang, mengorek hidung untuk mengeluarkan kotoran atau upil. Tapi, tahukah Anda bahwa sebenarnya membersihkan hidung tidak dibolehkan menggunakan jari. Menurut dr. S. Hendradewi, SpTHT-KL(K), Med, mengorek hidung bisa melukai kulit di bagian dalam hidung yang terdapat banyak pembuluh darah. \"Tangan yang kotor akan membuat bakteri tidak bagus masuk ke pembuluh darah dan berisiko infeksi, bisa mimisan,\" ujar dokter yang disapa Dewi ini kepada VIVA. Hal ini pun bisa berakibat fatal jika terus terjadi. Anda perlu tahu bahwa di dalam hidung ada pembatas antara hidung kanan dan kiri, jika dikorek dan terluka bisa terjadi abses atau bisul di dalam hidung. Risikonya bisa dikategorikan ke dalam gawat darurat dalam dunia THT. Kuman yang menginfeksi hidung ini sangat merugikan yang bisa memengaruhi bagian atas hidung. Jika penanganan terlambat, sekat akan berlubang. Hal ini bisa mengakibatkan kondisi yang disebut dengan sadel nose atau hidung sepeda. \"Kalau berkelanjutan, kuman akan menembus batas atas dan bisa terjadi radang otak. Karena itu ini termasuk emergency dalam THT, apalagi kalau pasiennya menderita penyakit gula, sangat fatal lagi,\" imbuh Dewi.\n",
      "\n"
     ]
    }
   ],
   "source": [
    "for r in result[:10]:\n",
    "    print(r['content']['content'])\n",
    "    print()"
   ]
  },
  {
   "cell_type": "markdown",
   "metadata": {},
   "source": [
    "### Save to DB "
   ]
  },
  {
   "cell_type": "code",
   "execution_count": 8,
   "metadata": {},
   "outputs": [],
   "source": [
    "host = '127.0.0.1'\n",
    "user = 'root'\n",
    "password = 'qwerty'\n",
    "db = 'entity_determiner'"
   ]
  },
  {
   "cell_type": "code",
   "execution_count": 9,
   "metadata": {},
   "outputs": [
    {
     "name": "stderr",
     "output_type": "stream",
     "text": [
      "100%|██████████| 40/40 [00:00<00:00, 1300.64it/s]\n"
     ]
    }
   ],
   "source": [
    "con = mdb.connect(host, user, password, db, charset='utf8')\n",
    "\n",
    "for r in tqdm(range(len(result))):\n",
    "    url = result[r]['url']\n",
    "    title = result[r]['content']['title']\n",
    "    content = result[r]['content']['content']\n",
    "    category = result[r]['category']\n",
    "    \n",
    "    sql = '''\n",
    "    INSERT INTO news\n",
    "    VALUE (0,'{url}','{title}','{content}','{category}',NOW())\n",
    "    '''.format(url=url, title=title, content=content, category=category)\n",
    "\n",
    "    try:\n",
    "        cur = con.cursor()\n",
    "        cur.execute(sql)\n",
    "        con.commit()\n",
    "    except:\n",
    "        pass\n",
    "    \n",
    "con.close()"
   ]
  },
  {
   "cell_type": "code",
   "execution_count": null,
   "metadata": {},
   "outputs": [],
   "source": []
  }
 ],
 "metadata": {
  "kernelspec": {
   "display_name": "Python 3",
   "language": "python",
   "name": "python3"
  },
  "language_info": {
   "codemirror_mode": {
    "name": "ipython",
    "version": 3
   },
   "file_extension": ".py",
   "mimetype": "text/x-python",
   "name": "python",
   "nbconvert_exporter": "python",
   "pygments_lexer": "ipython3",
   "version": "3.6.5"
  }
 },
 "nbformat": 4,
 "nbformat_minor": 2
}
