{
 "cells": [
  {
   "cell_type": "code",
   "execution_count": 35,
   "metadata": {},
   "outputs": [],
   "source": [
    "from bs4 import BeautifulSoup\n",
    "from goose3 import Goose\n",
    "from pprint import pprint\n",
    "from tqdm import tqdm\n",
    "import MySQLdb as mdb\n",
    "import requests\n",
    "import json\n",
    "import re"
   ]
  },
  {
   "cell_type": "code",
   "execution_count": 2,
   "metadata": {},
   "outputs": [],
   "source": [
    "baca_word = ['Informasi Menarik Terbaru','Membaca:','Baca juga','Baca :','BACA JUGA:','Artikel ini telah tayang di',\n",
    "            'Baca:','BACA :','Baca Juga:','Baca artikel sumber','Penulis :']\n",
    "\n",
    "user_agent = ('Mozilla/5.0 (Macintosh; Intel Mac OS X 10_11_6)'\n",
    "              ' AppleWebKit/537.36 (KHTML, like Gecko)'\n",
    "              ' Chrome/58.0.3029.96 Safari/537.36')\n",
    "\n",
    "known_pattern = json.loads(open(\"pattern.json\", \"r\").read())\n",
    "\n",
    "g = Goose({\n",
    "            'enable_image_fetching': False,\n",
    "            'use_meta_language': False,\n",
    "            'target_language': \"id\",\n",
    "            'browser_user_agent': user_agent,\n",
    "            'known_context_patterns': known_pattern,\n",
    "        })"
   ]
  },
  {
   "cell_type": "code",
   "execution_count": 3,
   "metadata": {},
   "outputs": [],
   "source": [
    "google_news = [\n",
    "    {\n",
    "        \"kanal\": \"bisnis\",\n",
    "        \"link\": \"CAAqJggKIiBDQkFTRWdvSUwyMHZNRGx6TVdZU0FtbGtHZ0pKUkNnQVAB\"\n",
    "    },\n",
    "    {\n",
    "        \"kanal\": \"teknologi\",\n",
    "        \"link\": \"CAAqJggKIiBDQkFTRWdvSUwyMHZNRGRqTVhZU0FtbGtHZ0pKUkNnQVAB\"\n",
    "    },\n",
    "    {\n",
    "        \"kanal\": \"hiburan\",\n",
    "        \"link\": \"CAAqJggKIiBDQkFTRWdvSUwyMHZNREpxYW5RU0FtbGtHZ0pKUkNnQVAB\"\n",
    "    },\n",
    "    {\n",
    "        \"kanal\": \"olahraga\",\n",
    "        \"link\": \"CAAqJggKIiBDQkFTRWdvSUwyMHZNRFp1ZEdvU0FtbGtHZ0pKUkNnQVAB\"\n",
    "    },\n",
    "    {\n",
    "        \"kanal\": \"sains\",\n",
    "        \"link\": \"CAAqJggKIiBDQkFTRWdvSUwyMHZNRFp0Y1RjU0FtbGtHZ0pKUkNnQVAB\"\n",
    "    },\n",
    "    {\n",
    "        \"kanal\": \"kesehatan\",\n",
    "        \"link\": \"CAAqIQgKIhtDQkFTRGdvSUwyMHZNR3QwTlRFU0FtbGtLQUFQAQ\"\n",
    "    }\n",
    "]\n",
    "\n",
    "all_kanal_links = []\n",
    "for kanal in google_news:\n",
    "    url = \"https://news.google.com/topics/{link}?hl=id&gl=ID&ceid=ID%3Aid\".format(link=kanal['link'])\n",
    "    all_kanal_links.append([kanal['kanal'],url])"
   ]
  },
  {
   "cell_type": "code",
   "execution_count": 18,
   "metadata": {},
   "outputs": [],
   "source": [
    "link_kanal = all_kanal_links[0][1]\n",
    "page = requests.get(link_kanal)\n",
    "soup = BeautifulSoup(page.content, 'html.parser')\n",
    "href = soup.find_all(\"a\", {\"class\" : \"VDXfz\"})\n",
    "\n",
    "links_one_kanal = []\n",
    "for h in href:\n",
    "    h = h['href'].replace('./articles','https://news.google.com/articles')\n",
    "    links_one_kanal.append(h)"
   ]
  },
  {
   "cell_type": "code",
   "execution_count": 25,
   "metadata": {},
   "outputs": [
    {
     "data": {
      "text/plain": [
       "'https://news.google.com/articles/CBMigAFodHRwOi8vbWVkYW4udHJpYnVubmV3cy5jb20vMjAxOC8wNi8yMi9tZW50ZXJpLXBlcmh1YnVuZ2FuLXBhc3Rpa2FuLWthcGFsLWRpLWRhbmF1LXRvYmEtcGF0dWhpLTMtaGFsLWluaS13YWppYi1wdW55YS1saWZlLWphY2tldNIBxgFodHRwczovL21lZGFuLXRyaWJ1bm5ld3MtY29tLmNkbi5hbXBwcm9qZWN0Lm9yZy92L21lZGFuLnRyaWJ1bm5ld3MuY29tL2FtcC8yMDE4LzA2LzIyL21lbnRlcmktcGVyaHVidW5nYW4tcGFzdGlrYW4ta2FwYWwtZGktZGFuYXUtdG9iYS1wYXR1aGktMy1oYWwtaW5pLXdhamliLXB1bnlhLWxpZmUtamFja2V0P2FtcF9qc192PTAuMSN3ZWJ2aWV3PTE?hl=id&gl=ID&ceid=ID%3Aid'"
      ]
     },
     "execution_count": 25,
     "metadata": {},
     "output_type": "execute_result"
    }
   ],
   "source": [
    "link = links_one_kanal[1]\n",
    "link"
   ]
  },
  {
   "cell_type": "code",
   "execution_count": 26,
   "metadata": {},
   "outputs": [],
   "source": []
  },
  {
   "cell_type": "code",
   "execution_count": 77,
   "metadata": {},
   "outputs": [],
   "source": [
    "def cleaning_title(title):\n",
    "    sparator = [' |',' -',' –']\n",
    "    for s in sparator:\n",
    "        title_ = title.split(s)\n",
    "        \n",
    "        if title_[0] == title:\n",
    "            pass\n",
    "        else:\n",
    "            if len(title[0]) < 20:\n",
    "                title_fix = title_[1]\n",
    "            else:\n",
    "                title_fix = title_[0]\n",
    "               \n",
    "    return title_fix"
   ]
  },
  {
   "cell_type": "code",
   "execution_count": 78,
   "metadata": {},
   "outputs": [],
   "source": [
    "# redirect = requests.get(link, timeout=5, allow_redirects=True)\n",
    "\n",
    "# extract = g.extract(url=redirect.url)\n",
    "\n",
    "# title = extract.title\n",
    "# title = cleaning_title(title)\n",
    "# final_title = re.sub(r'[^\\x00-\\x7F]+', '', title)"
   ]
  },
  {
   "cell_type": "code",
   "execution_count": 79,
   "metadata": {},
   "outputs": [],
   "source": [
    "judul = \"PULSA 2018 - Judul nya disini\""
   ]
  },
  {
   "cell_type": "code",
   "execution_count": 80,
   "metadata": {},
   "outputs": [
    {
     "name": "stdout",
     "output_type": "stream",
     "text": [
      "PULSA 2018 - Judul nya disini\n",
      "['PULSA 2018 - Judul nya disini']\n",
      "PULSA 2018 - Judul nya disini\n",
      "['PULSA 2018', ' Judul nya disini']\n",
      "PULSA 2018 - Judul nya disini\n",
      "['PULSA 2018 - Judul nya disini']\n"
     ]
    },
    {
     "data": {
      "text/plain": [
       "' Judul nya disini'"
      ]
     },
     "execution_count": 80,
     "metadata": {},
     "output_type": "execute_result"
    }
   ],
   "source": [
    "cleaning_title(judul)"
   ]
  },
  {
   "cell_type": "code",
   "execution_count": null,
   "metadata": {},
   "outputs": [],
   "source": []
  }
 ],
 "metadata": {
  "kernelspec": {
   "display_name": "Global-ENV",
   "language": "python",
   "name": "global-env"
  },
  "language_info": {
   "codemirror_mode": {
    "name": "ipython",
    "version": 3
   },
   "file_extension": ".py",
   "mimetype": "text/x-python",
   "name": "python",
   "nbconvert_exporter": "python",
   "pygments_lexer": "ipython3",
   "version": "3.6.5"
  }
 },
 "nbformat": 4,
 "nbformat_minor": 2
}
