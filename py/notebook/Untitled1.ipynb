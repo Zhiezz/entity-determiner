{
 "cells": [
  {
   "cell_type": "code",
   "execution_count": 1,
   "metadata": {},
   "outputs": [],
   "source": [
    "fopen = open('Indonesian_Manually_Tagged_Corpus.tsv','r').readlines()"
   ]
  },
  {
   "cell_type": "code",
   "execution_count": 9,
   "metadata": {},
   "outputs": [],
   "source": [
    "fdata = []\n",
    "for f in fopen:\n",
    "    if len(f) > 1:\n",
    "        fd = f.replace('\\n','').split('\\t')\n",
    "        fdata.append(fd)"
   ]
  },
  {
   "cell_type": "code",
   "execution_count": 10,
   "metadata": {},
   "outputs": [
    {
     "data": {
      "text/plain": [
       "[['Kera', 'NN'],\n",
       " ['untuk', 'SC'],\n",
       " ['amankan', 'VB'],\n",
       " ['pesta olahraga', 'NN'],\n",
       " ['Pemerintah', 'NNP'],\n",
       " ['kota', 'NNP'],\n",
       " ['Delhi', 'NNP'],\n",
       " ['mengerahkan', 'VB'],\n",
       " ['monyet', 'NN'],\n",
       " ['untuk', 'SC'],\n",
       " ['mengusir', 'VB'],\n",
       " ['monyet-monyet', 'NN'],\n",
       " ['lain', 'JJ'],\n",
       " ['yang', 'SC'],\n",
       " ['berbadan', 'VB'],\n",
       " ['lebih', 'RB'],\n",
       " ['kecil', 'JJ'],\n",
       " ['dari', 'IN'],\n",
       " ['arena', 'NN'],\n",
       " ['Pesta Olahraga', 'NNP'],\n",
       " ['Persemakmuran', 'NNP'],\n",
       " ['.', 'Z'],\n",
       " ['Beberapa', 'CD'],\n",
       " ['laporan', 'NN'],\n",
       " ['menyebutkan', 'VB'],\n",
       " ['setidaknya', 'RB'],\n",
       " ['10', 'CD'],\n",
       " ['monyet', 'NN'],\n",
       " ['ditempatkan', 'VB'],\n",
       " ['di', 'IN'],\n",
       " ['luar', 'NN'],\n",
       " ['arena', 'NN'],\n",
       " ['lomba', 'NN'],\n",
       " ['dan', 'CC'],\n",
       " ['pertandingan', 'NN'],\n",
       " ['di', 'IN'],\n",
       " ['ibukota', 'NNP'],\n",
       " ['India', 'NNP'],\n",
       " ['.', 'Z'],\n",
       " ['Pemkot', 'NNP'],\n",
       " ['Delhi', 'NNP'],\n",
       " ['memiliki', 'VB'],\n",
       " ['28', 'CD'],\n",
       " ['monyet', 'NN'],\n",
       " ['dan', 'CC'],\n",
       " ['berencana', 'VB'],\n",
       " ['mendatangkan', 'VB'],\n",
       " ['10', 'CD'],\n",
       " ['monyet', 'NN'],\n",
       " ['sejenis', 'NN']]"
      ]
     },
     "execution_count": 10,
     "metadata": {},
     "output_type": "execute_result"
    }
   ],
   "source": [
    "fdata[:50]"
   ]
  },
  {
   "cell_type": "code",
   "execution_count": null,
   "metadata": {},
   "outputs": [],
   "source": []
  }
 ],
 "metadata": {
  "kernelspec": {
   "display_name": "Global-ENV",
   "language": "python",
   "name": "global-env"
  },
  "language_info": {
   "codemirror_mode": {
    "name": "ipython",
    "version": 3
   },
   "file_extension": ".py",
   "mimetype": "text/x-python",
   "name": "python",
   "nbconvert_exporter": "python",
   "pygments_lexer": "ipython3",
   "version": "3.6.5"
  }
 },
 "nbformat": 4,
 "nbformat_minor": 2
}
