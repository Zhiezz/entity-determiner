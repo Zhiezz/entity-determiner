{
 "cells": [
  {
   "cell_type": "code",
   "execution_count": 2,
   "metadata": {},
   "outputs": [],
   "source": [
    "from pprint import pprint\n",
    "from nltk.tag import hmm\n",
    "from sklearn.externals import joblib\n",
    "from nltk.tag.hmm  import HiddenMarkovModelTagger, HiddenMarkovModelTrainer\n",
    "from nltk.probability import LidstoneProbDist"
   ]
  },
  {
   "cell_type": "code",
   "execution_count": 3,
   "metadata": {},
   "outputs": [],
   "source": [
    "fname = \"Indonesian_Manually_Tagged_Corpus.tsv\"\n",
    "fopen = open(fname,'r')\n",
    "fdata = fopen.readlines()"
   ]
  },
  {
   "cell_type": "code",
   "execution_count": 4,
   "metadata": {},
   "outputs": [],
   "source": [
    "sentences = []\n",
    "sentence = []\n",
    "for word in fdata:\n",
    "    dt = word.replace('\\n','').split('\\t')\n",
    "    if(len(dt) == 1):\n",
    "        sentences.append(sentence)\n",
    "        sentence = []\n",
    "    else:\n",
    "        sentence.append((dt[0],dt[1]))"
   ]
  },
  {
   "cell_type": "code",
   "execution_count": 22,
   "metadata": {},
   "outputs": [
    {
     "name": "stdout",
     "output_type": "stream",
     "text": [
      "All Sentences : 10029 \n",
      "Training Sentences : 10018 \n",
      "Testing Sentences : 11 \n"
     ]
    }
   ],
   "source": [
    "print('All Sentences : %d ' % (len(sentences)))\n",
    "cutoff = int(.999 * len(sentences))\n",
    "training_sentences = sentences[:cutoff]\n",
    "test_sentences = sentences[cutoff:]\n",
    "print('Training Sentences : %d ' % (len(training_sentences)))\n",
    "print('Testing Sentences : %d ' % (len(test_sentences)))"
   ]
  },
  {
   "cell_type": "code",
   "execution_count": 23,
   "metadata": {},
   "outputs": [
    {
     "name": "stdout",
     "output_type": "stream",
     "text": [
      "Training Start\n",
      "Training Completed\n",
      "Testing Start\n",
      "accuracy over 262 tokens: 98.47\n",
      "Testing Completed\n"
     ]
    }
   ],
   "source": [
    "print('Training Start')\n",
    "trainer = HiddenMarkovModelTrainer()\n",
    "tagger = trainer.train_supervised(training_sentences, estimator=lambda fd, bins: LidstoneProbDist(fd, 0.1, bins))\n",
    "print('Training Completed')\n",
    "\n",
    "print('Testing Start')\n",
    "tagger.test(test_sentences, verbose=False)\n",
    "print('Testing Completed')"
   ]
  },
  {
   "cell_type": "code",
   "execution_count": 21,
   "metadata": {},
   "outputs": [],
   "source": [
    "import dill\n",
    "with open('my_tagger.dill', 'wb') as f:\n",
    "    dill.dump(tagger, f)"
   ]
  },
  {
   "cell_type": "code",
   "execution_count": null,
   "metadata": {},
   "outputs": [],
   "source": []
  }
 ],
 "metadata": {
  "kernelspec": {
   "display_name": "Global-ENV",
   "language": "python",
   "name": "global-env"
  },
  "language_info": {
   "codemirror_mode": {
    "name": "ipython",
    "version": 3
   },
   "file_extension": ".py",
   "mimetype": "text/x-python",
   "name": "python",
   "nbconvert_exporter": "python",
   "pygments_lexer": "ipython3",
   "version": "3.7.0"
  }
 },
 "nbformat": 4,
 "nbformat_minor": 2
}
