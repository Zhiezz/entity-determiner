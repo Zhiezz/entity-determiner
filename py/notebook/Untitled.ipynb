{
 "cells": [
  {
   "cell_type": "code",
   "execution_count": 50,
   "metadata": {},
   "outputs": [],
   "source": [
    "import MySQLdb as mdb\n",
    "from datetime import datetime\n",
    "from collections import Counter\n",
    "import json\n",
    "import operator"
   ]
  },
  {
   "cell_type": "code",
   "execution_count": 94,
   "metadata": {},
   "outputs": [],
   "source": [
    "def mod_tgl_indo(tgl):\n",
    "    tgl = tgl.split(',')\n",
    "    \n",
    "    hari = ['Minggu','Senin','Selasa','Rabu','Kamis','Jumat','Sabtu']\n",
    "    bulan = ['Januari','Februari','Maret','April','Mei','Juni','Juli','Agusturs','September','Oktober','November','Desember']\n",
    "\n",
    "    if len(tgl[2]) > 1:\n",
    "        _bln = str(tgl[2]).replace('0','')\n",
    "        \n",
    "    _hari = hari[tgl[0]]\n",
    "    _bulan = bulan[int(_bln) - 1]\n",
    "    return tgl"
   ]
  },
  {
   "cell_type": "code",
   "execution_count": 95,
   "metadata": {},
   "outputs": [
    {
     "name": "stdout",
     "output_type": "stream",
     "text": [
      "Minggu\n"
     ]
    },
    {
     "data": {
      "text/plain": [
       "['01', '01', '01', '01', '01']"
      ]
     },
     "execution_count": 95,
     "metadata": {},
     "output_type": "execute_result"
    }
   ],
   "source": [
    "mod_tgl_indo('01,01,01,01,01')"
   ]
  },
  {
   "cell_type": "code",
   "execution_count": null,
   "metadata": {},
   "outputs": [],
   "source": []
  },
  {
   "cell_type": "code",
   "execution_count": null,
   "metadata": {},
   "outputs": [],
   "source": []
  },
  {
   "cell_type": "code",
   "execution_count": 70,
   "metadata": {},
   "outputs": [
    {
     "name": "stdout",
     "output_type": "stream",
     "text": [
      "0\n",
      "9\n",
      "7\n",
      "3\n",
      "4\n",
      "10\n",
      "0\n",
      "3\n"
     ]
    }
   ],
   "source": [
    "today = datetime.today().strftime(\"%Y-%m-%d\")\n",
    "start_today = today + \" 00:00:00\"\n",
    "end_today = today + \" 23:59:59\"\n",
    "\n",
    "tables = ['indonesia', 'dunia', 'bisnis', 'teknologi', 'hiburan', 'olahraga', 'science', 'kesehatan']\n",
    "\n",
    "all_entity = []\n",
    "for t in tables:\n",
    "    query = \"\"\"SELECT * FROM {table_name} WHERE published_at BETWEEN '{start_today}' AND '{end_today}' AND clean_content LIKE '%India%'\"\"\".format(\n",
    "        table_name=t, start_today=start_today, end_today=end_today)\n",
    "\n",
    "    connect = mdb.connect(db_host, db_user, db_password, db_name, charset=db_charset)\n",
    "    cursor = connect.cursor()\n",
    "    cursor.execute(query)\n",
    "    result = cursor.fetchall()\n",
    "    connect.close()\n",
    "    \n",
    "    print(len(result))"
   ]
  },
  {
   "cell_type": "code",
   "execution_count": null,
   "metadata": {},
   "outputs": [],
   "source": []
  }
 ],
 "metadata": {
  "kernelspec": {
   "display_name": "Python 3",
   "language": "python",
   "name": "python3"
  },
  "language_info": {
   "codemirror_mode": {
    "name": "ipython",
    "version": 3
   },
   "file_extension": ".py",
   "mimetype": "text/x-python",
   "name": "python",
   "nbconvert_exporter": "python",
   "pygments_lexer": "ipython3",
   "version": "3.6.5"
  }
 },
 "nbformat": 4,
 "nbformat_minor": 2
}
