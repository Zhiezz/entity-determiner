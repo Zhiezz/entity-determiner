{
 "cells": [
  {
   "cell_type": "code",
   "execution_count": 1,
   "metadata": {},
   "outputs": [],
   "source": [
    "import MySQLdb as mdb\n",
    "import json"
   ]
  },
  {
   "cell_type": "code",
   "execution_count": 2,
   "metadata": {},
   "outputs": [],
   "source": [
    "host = '127.0.0.1'\n",
    "user = 'root'\n",
    "password = 'qwerty'\n",
    "db = 'entity_determiner'"
   ]
  },
  {
   "cell_type": "markdown",
   "metadata": {},
   "source": [
    "### First Load"
   ]
  },
  {
   "cell_type": "code",
   "execution_count": 24,
   "metadata": {},
   "outputs": [],
   "source": [
    "def firstLoad():\n",
    "    category = ['WORLD','NATION','BUSINESS','TECHNOLOGY','ENTERTAINMENT','SPORTS','SCIENCE','HEALTH']\n",
    "    con = mdb.connect(host, user, password, db, charset='utf8')\n",
    "\n",
    "    result = []\n",
    "    for cat in category:\n",
    "        sql = '''SELECT id_news, url, title, content, category FROM news WHERE category = \"{cat}\" LIMIT 3'''.format(cat=cat)\n",
    "\n",
    "        cur = con.cursor()\n",
    "        cur.execute(sql)\n",
    "        data = cur.fetchall()\n",
    "\n",
    "        temp = []\n",
    "        for dt in data:\n",
    "            data_json = {\n",
    "                'id_news': dt[0],\n",
    "                'url': dt[1],\n",
    "                'title': dt[2],\n",
    "                'content': dt[3],\n",
    "                'category': dt[4]\n",
    "            }\n",
    "            temp.append(data_json)\n",
    "\n",
    "        res = {\n",
    "            'cat': cat,\n",
    "            'news': temp\n",
    "        }\n",
    "        result.append(res)\n",
    "\n",
    "    con.close()\n",
    "\n",
    "    return json.dumps(result)"
   ]
  },
  {
   "cell_type": "code",
   "execution_count": 25,
   "metadata": {},
   "outputs": [],
   "source": [
    "dt = firstLoad()"
   ]
  },
  {
   "cell_type": "code",
   "execution_count": null,
   "metadata": {},
   "outputs": [],
   "source": []
  }
 ],
 "metadata": {
  "kernelspec": {
   "display_name": "Global-ENV",
   "language": "python",
   "name": "global-env"
  },
  "language_info": {
   "codemirror_mode": {
    "name": "ipython",
    "version": 3
   },
   "file_extension": ".py",
   "mimetype": "text/x-python",
   "name": "python",
   "nbconvert_exporter": "python",
   "pygments_lexer": "ipython3",
   "version": "3.6.5"
  }
 },
 "nbformat": 4,
 "nbformat_minor": 2
}
